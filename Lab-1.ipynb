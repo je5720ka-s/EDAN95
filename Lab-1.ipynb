{
 "cells": [
  {
   "cell_type": "code",
   "execution_count": 3,
   "metadata": {},
   "outputs": [
    {
     "name": "stdout",
     "output_type": "stream",
     "text": [
      "Collecting regex\n",
      "  Downloading regex-2020.10.28-cp37-cp37m-win_amd64.whl (272 kB)\n",
      "Installing collected packages: regex\n",
      "Successfully installed regex-2020.10.28\n"
     ]
    }
   ],
   "source": [
    "!pip install regex"
   ]
  },
  {
   "cell_type": "code",
   "execution_count": 4,
   "metadata": {},
   "outputs": [],
   "source": [
    "import math"
   ]
  },
  {
   "cell_type": "code",
   "execution_count": 5,
   "metadata": {},
   "outputs": [
    {
     "data": {
      "text/plain": [
       "3628800"
      ]
     },
     "execution_count": 5,
     "metadata": {},
     "output_type": "execute_result"
    }
   ],
   "source": [
    "math.factorial(10)"
   ]
  },
  {
   "cell_type": "code",
   "execution_count": 6,
   "metadata": {},
   "outputs": [],
   "source": [
    "import numpy as np\n"
   ]
  },
  {
   "cell_type": "code",
   "execution_count": 7,
   "metadata": {},
   "outputs": [],
   "source": [
    "from numpy import linalg\n"
   ]
  },
  {
   "cell_type": "code",
   "execution_count": 9,
   "metadata": {},
   "outputs": [],
   "source": [
    "numbers = [1,2,3,4,5,6,7]\n",
    "numbers.extend([8, 9, 10])"
   ]
  },
  {
   "cell_type": "code",
   "execution_count": 10,
   "metadata": {},
   "outputs": [
    {
     "data": {
      "text/plain": [
       "19.621416870348583"
      ]
     },
     "execution_count": 10,
     "metadata": {},
     "output_type": "execute_result"
    }
   ],
   "source": [
    "linalg.norm(numbers)"
   ]
  },
  {
   "cell_type": "code",
   "execution_count": 12,
   "metadata": {},
   "outputs": [],
   "source": [
    "from sklearn import datasets, svm, metrics\n",
    "import matplotlib.pyplot as plt\n"
   ]
  },
  {
   "cell_type": "code",
   "execution_count": 14,
   "metadata": {},
   "outputs": [],
   "source": [
    "digits = datasets.load_digits()"
   ]
  },
  {
   "cell_type": "code",
   "execution_count": 15,
   "metadata": {},
   "outputs": [
    {
     "data": {
      "text/plain": [
       "array([[ 0.,  0.,  5., ...,  0.,  0.,  0.],\n",
       "       [ 0.,  0.,  0., ..., 10.,  0.,  0.],\n",
       "       [ 0.,  0.,  0., ..., 16.,  9.,  0.],\n",
       "       ...,\n",
       "       [ 0.,  0.,  1., ...,  6.,  0.,  0.],\n",
       "       [ 0.,  0.,  2., ..., 12.,  0.,  0.],\n",
       "       [ 0.,  0., 10., ..., 12.,  1.,  0.]])"
      ]
     },
     "execution_count": 15,
     "metadata": {},
     "output_type": "execute_result"
    }
   ],
   "source": [
    "digits.data"
   ]
  },
  {
   "cell_type": "code",
   "execution_count": 19,
   "metadata": {},
   "outputs": [
    {
     "data": {
      "text/plain": [
       "array([ 0.,  0.,  0., 12., 13.,  5.,  0.,  0.,  0.,  0.,  0., 11., 16.,\n",
       "        9.,  0.,  0.,  0.,  0.,  3., 15., 16.,  6.,  0.,  0.,  0.,  7.,\n",
       "       15., 16., 16.,  2.,  0.,  0.,  0.,  0.,  1., 16., 16.,  3.,  0.,\n",
       "        0.,  0.,  0.,  1., 16., 16.,  6.,  0.,  0.,  0.,  0.,  1., 16.,\n",
       "       16.,  6.,  0.,  0.,  0.,  0.,  0., 11., 16., 10.,  0.,  0.])"
      ]
     },
     "execution_count": 19,
     "metadata": {},
     "output_type": "execute_result"
    }
   ],
   "source": [
    "digits.data[1]\n"
   ]
  },
  {
   "cell_type": "code",
   "execution_count": 17,
   "metadata": {},
   "outputs": [
    {
     "data": {
      "text/plain": [
       "(1797, 64)"
      ]
     },
     "execution_count": 17,
     "metadata": {},
     "output_type": "execute_result"
    }
   ],
   "source": [
    "digits.data.shape\n"
   ]
  },
  {
   "cell_type": "code",
   "execution_count": 18,
   "metadata": {},
   "outputs": [
    {
     "data": {
      "image/png": "[encoded data removed]",
      "text/plain": [
       "<Figure size 432x288 with 10 Axes>"
      ]
     },
     "metadata": {
      "needs_background": "light"
     },
     "output_type": "display_data"
    }
   ],
   "source": [
    "images_and_labels = list(zip(digits.images, digits.target))\n",
    "for index, (image, label) in enumerate(images_and_labels[:10]):\n",
    "    plt.subplot(2, 5, index + 1)\n",
    "    plt.axis('off')\n",
    "    plt.imshow(image, cmap=plt.cm.gray_r, interpolation='nearest')\n",
    "    plt.title('Training: %i' % label)\n",
    "    "
   ]
  },
  {
   "cell_type": "code",
   "execution_count": 20,
   "metadata": {},
   "outputs": [
    {
     "data": {
      "text/plain": [
       "1797"
      ]
     },
     "execution_count": 20,
     "metadata": {},
     "output_type": "execute_result"
    }
   ],
   "source": [
    "num_examples = len(digits.data)\n",
    "num_examples"
   ]
  },
  {
   "cell_type": "code",
   "execution_count": 21,
   "metadata": {},
   "outputs": [
    {
     "data": {
      "text/plain": [
       "1257"
      ]
     },
     "execution_count": 21,
     "metadata": {},
     "output_type": "execute_result"
    }
   ],
   "source": [
    "num_split = int(0.7*num_examples)\n",
    "num_split\n"
   ]
  },
  {
   "cell_type": "code",
   "execution_count": 25,
   "metadata": {},
   "outputs": [],
   "source": [
    "train_features = digits.data[:num_split]\n",
    "train_features\n",
    "train_labels =  digits.target[:num_split]\n",
    "#train_labels\n",
    "test_features = digits.data[num_split:]\n",
    "#test_features\n",
    "test_labels = digits.target[num_split:]\n",
    "#test_labels"
   ]
  },
  {
   "cell_type": "code",
   "execution_count": 26,
   "metadata": {},
   "outputs": [
    {
     "data": {
      "text/plain": [
       "array([[ 0.,  0.,  5., ...,  0.,  0.,  0.],\n",
       "       [ 0.,  0.,  0., ..., 10.,  0.,  0.],\n",
       "       [ 0.,  0.,  0., ..., 16.,  9.,  0.],\n",
       "       ...,\n",
       "       [ 0.,  0.,  0., ...,  3.,  0.,  0.],\n",
       "       [ 0.,  0.,  5., ..., 11.,  3.,  0.],\n",
       "       [ 0.,  0.,  3., ...,  0.,  0.,  0.]])"
      ]
     },
     "execution_count": 26,
     "metadata": {},
     "output_type": "execute_result"
    }
   ],
   "source": [
    "train_features = digits.data[:num_split]\n",
    "train_features"
   ]
  },
  {
   "cell_type": "code",
   "execution_count": 27,
   "metadata": {},
   "outputs": [
    {
     "data": {
      "text/plain": [
       "array([0, 1, 2, ..., 4, 3, 1])"
      ]
     },
     "execution_count": 27,
     "metadata": {},
     "output_type": "execute_result"
    }
   ],
   "source": [
    "train_labels =  digits.target[:num_split]\n",
    "train_labels"
   ]
  },
  {
   "cell_type": "code",
   "execution_count": 28,
   "metadata": {},
   "outputs": [
    {
     "data": {
      "text/plain": [
       "array([[ 0.,  0.,  0., ...,  0.,  0.,  0.],\n",
       "       [ 0.,  0.,  5., ...,  3.,  0.,  0.],\n",
       "       [ 0.,  7., 16., ...,  0.,  0.,  0.],\n",
       "       ...,\n",
       "       [ 0.,  0.,  1., ...,  6.,  0.,  0.],\n",
       "       [ 0.,  0.,  2., ..., 12.,  0.,  0.],\n",
       "       [ 0.,  0., 10., ..., 12.,  1.,  0.]])"
      ]
     },
     "execution_count": 28,
     "metadata": {},
     "output_type": "execute_result"
    }
   ],
   "source": [
    "test_features = digits.data[num_split:]\n",
    "test_features"
   ]
  },
  {
   "cell_type": "code",
   "execution_count": 29,
   "metadata": {},
   "outputs": [
    {
     "data": {
      "text/plain": [
       "array([4, 0, 5, 3, 6, 9, 6, 1, 7, 5, 4, 4, 7, 2, 8, 2, 2, 5, 7, 9, 5, 4,\n",
       "       8, 8, 4, 9, 0, 8, 9, 8, 0, 1, 2, 3, 4, 5, 6, 7, 8, 9, 0, 1, 2, 3,\n",
       "       4, 5, 6, 7, 8, 9, 0, 1, 2, 3, 4, 5, 6, 7, 8, 9, 0, 9, 5, 5, 6, 5,\n",
       "       0, 9, 8, 9, 8, 4, 1, 7, 7, 3, 5, 1, 0, 0, 2, 2, 7, 8, 2, 0, 1, 2,\n",
       "       6, 3, 3, 7, 3, 3, 4, 6, 6, 6, 4, 9, 1, 5, 0, 9, 5, 2, 8, 2, 0, 0,\n",
       "       1, 7, 6, 3, 2, 1, 7, 4, 6, 3, 1, 3, 9, 1, 7, 6, 8, 4, 3, 1, 4, 0,\n",
       "       5, 3, 6, 9, 6, 1, 7, 5, 4, 4, 7, 2, 8, 2, 2, 5, 7, 9, 5, 4, 8, 8,\n",
       "       4, 9, 0, 8, 0, 1, 2, 3, 4, 5, 6, 7, 8, 9, 0, 1, 2, 3, 4, 5, 6, 7,\n",
       "       8, 9, 0, 1, 2, 3, 4, 5, 6, 7, 8, 9, 0, 9, 5, 5, 6, 5, 0, 9, 8, 9,\n",
       "       8, 4, 1, 7, 7, 3, 5, 1, 0, 0, 2, 2, 7, 8, 2, 0, 1, 2, 6, 3, 3, 7,\n",
       "       3, 3, 4, 6, 6, 6, 4, 9, 1, 5, 0, 9, 5, 2, 8, 2, 0, 0, 1, 7, 6, 3,\n",
       "       2, 1, 7, 4, 6, 3, 1, 3, 9, 1, 7, 6, 8, 4, 3, 1, 4, 0, 5, 3, 6, 9,\n",
       "       6, 1, 7, 5, 4, 4, 7, 2, 8, 2, 2, 5, 7, 9, 5, 4, 8, 8, 4, 9, 0, 8,\n",
       "       9, 8, 0, 1, 2, 3, 4, 5, 6, 7, 8, 9, 0, 1, 2, 3, 4, 5, 6, 9, 0, 1,\n",
       "       2, 3, 4, 5, 6, 7, 8, 9, 0, 9, 5, 5, 6, 5, 0, 9, 8, 9, 8, 4, 1, 7,\n",
       "       7, 3, 5, 1, 0, 0, 2, 2, 7, 8, 2, 0, 1, 2, 6, 3, 3, 7, 3, 3, 4, 6,\n",
       "       6, 6, 4, 9, 1, 5, 0, 9, 5, 2, 8, 0, 1, 7, 6, 3, 2, 1, 7, 4, 6, 3,\n",
       "       1, 3, 9, 1, 7, 6, 8, 4, 3, 1, 4, 0, 5, 3, 6, 9, 6, 1, 7, 5, 4, 4,\n",
       "       7, 2, 2, 5, 7, 9, 5, 4, 4, 9, 0, 8, 9, 8, 0, 1, 2, 3, 4, 5, 6, 7,\n",
       "       8, 9, 0, 1, 2, 3, 4, 5, 6, 7, 8, 9, 0, 1, 2, 3, 4, 5, 6, 7, 8, 9,\n",
       "       0, 9, 5, 5, 6, 5, 0, 9, 8, 9, 8, 4, 1, 7, 7, 3, 5, 1, 0, 0, 2, 2,\n",
       "       7, 8, 2, 0, 1, 2, 6, 3, 3, 7, 3, 3, 4, 6, 6, 6, 4, 9, 1, 5, 0, 9,\n",
       "       5, 2, 8, 2, 0, 0, 1, 7, 6, 3, 2, 1, 7, 4, 6, 3, 1, 3, 9, 1, 7, 6,\n",
       "       8, 4, 3, 1, 4, 0, 5, 3, 6, 9, 6, 1, 7, 5, 4, 4, 7, 2, 8, 2, 2, 5,\n",
       "       7, 9, 5, 4, 8, 8, 4, 9, 0, 8, 9, 8])"
      ]
     },
     "execution_count": 29,
     "metadata": {},
     "output_type": "execute_result"
    }
   ],
   "source": [
    "test_labels = digits.target[num_split:]\n",
    "test_labels"
   ]
  },
  {
   "cell_type": "code",
   "execution_count": 32,
   "metadata": {},
   "outputs": [],
   "source": [
    "from sklearn.neighbors import KNeighborsClassifier\n",
    "neigh = KNeighborsClassifier(n_neighbors=5,algorithm='brute')\n"
   ]
  },
  {
   "cell_type": "code",
   "execution_count": 33,
   "metadata": {},
   "outputs": [
    {
     "data": {
      "text/plain": [
       "KNeighborsClassifier(algorithm='brute')"
      ]
     },
     "execution_count": 33,
     "metadata": {},
     "output_type": "execute_result"
    }
   ],
   "source": [
    "neigh.fit(train_features, train_labels)"
   ]
  },
  {
   "cell_type": "code",
   "execution_count": 34,
   "metadata": {},
   "outputs": [],
   "source": [
    "predicted_labels = neigh.predict(test_features)"
   ]
  },
  {
   "cell_type": "code",
   "execution_count": 97,
   "metadata": {},
   "outputs": [
    {
     "data": {
      "text/plain": [
       "array([[ 353,  817,  297,  366, 1254],\n",
       "       [1177,  588,  725,  824,  328],\n",
       "       [ 376,  791,  801,  165,  896],\n",
       "       ...,\n",
       "       [ 148,  248,  242, 1069,  255],\n",
       "       [ 254,  251,  849,  417,  199],\n",
       "       [ 183,  248, 1015,  513,  224]], dtype=int64)"
      ]
     },
     "execution_count": 97,
     "metadata": {},
     "output_type": "execute_result"
    }
   ],
   "source": [
    "distances, neighbors = neigh.kneighbors( test_features)\n",
    "neighbors"
   ]
  },
  {
   "cell_type": "code",
   "execution_count": 107,
   "metadata": {},
   "outputs": [
    {
     "name": "stderr",
     "output_type": "stream",
     "text": [
      "C:\\Users\\david\\Anaconda3\\envs\\tensorfloe_environment\\lib\\site-packages\\ipykernel_launcher.py:2: MatplotlibDeprecationWarning: Adding an axes using the same arguments as a previous axes currently reuses the earlier instance.  In a future version, a new instance will always be created and returned.  Meanwhile, this warning can be suppressed, and the future behavior ensured, by passing a unique label to each axes instance.\n",
      "  \n"
     ]
    },
    {
     "data": {
      "image/png": "[encoded data removed]",
      "text/plain": [
       "<Figure size 432x288 with 1 Axes>"
      ]
     },
     "metadata": {
      "needs_background": "light"
     },
     "output_type": "display_data"
    }
   ],
   "source": [
    "for i in range(0,2):\n",
    "    plt.subplot(2, 4, index + 5)\n",
    "    plt.axis('off')\n",
    "    plt.imshow(train_features[neighbors[i]],cmap=plt.cm.gray_r, interpolation='nearest')\n",
    "\n",
    "\n",
    "#images_and_predictions = list(zip(digits.images[num_split:], predicted_labels))\n",
    "#for index, (image, prediction) in enumerate(images_and_predictions[:4]):\n",
    "#    plt.subplot(2, 4, index + 5)\n",
    " #   plt.axis('off')\n",
    "  #  plt.imshow(image, cmap=plt.cm.gray_r, interpolation='nearest')\n",
    "   # plt.title('Prediction: %i' % prediction)\n",
    "\n",
    "plt.show()"
   ]
  },
  {
   "cell_type": "code",
   "execution_count": 55,
   "metadata": {},
   "outputs": [
    {
     "data": {
      "image/png": "[encoded data removed]",
      "text/plain": [
       "<Figure size 432x288 with 4 Axes>"
      ]
     },
     "metadata": {
      "needs_background": "light"
     },
     "output_type": "display_data"
    }
   ],
   "source": [
    "images_and_predictions = list(zip(digits.images[num_split:], predicted_labels))\n",
    "for index, (image, prediction) in enumerate(images_and_predictions[:4]):\n",
    "    plt.subplot(2, 4, index + 5)\n",
    "    plt.axis('off')\n",
    "    plt.imshow(image, cmap=plt.cm.gray_r, interpolation='nearest')\n",
    "    plt.title('Prediction: %i' % prediction)\n",
    "\n",
    "plt.show()"
   ]
  },
  {
   "cell_type": "code",
   "execution_count": 39,
   "metadata": {},
   "outputs": [
    {
     "name": "stdout",
     "output_type": "stream",
     "text": [
      "              precision    recall  f1-score   support\n",
      "\n",
      "           0       0.98      0.98      0.98        53\n",
      "           1       0.95      0.98      0.96        53\n",
      "           2       0.98      0.96      0.97        53\n",
      "           3       0.96      0.92      0.94        53\n",
      "           4       0.98      0.96      0.97        57\n",
      "           5       0.95      0.98      0.96        56\n",
      "           6       0.98      1.00      0.99        54\n",
      "           7       0.95      1.00      0.97        54\n",
      "           8       0.96      0.90      0.93        52\n",
      "           9       0.96      0.95      0.95        55\n",
      "\n",
      "    accuracy                           0.96       540\n",
      "   macro avg       0.96      0.96      0.96       540\n",
      "weighted avg       0.97      0.96      0.96       540\n",
      "\n"
     ]
    }
   ],
   "source": [
    "print(metrics.classification_report( test_labels, predicted_labels))"
   ]
  },
  {
   "cell_type": "code",
   "execution_count": 40,
   "metadata": {},
   "outputs": [
    {
     "data": {
      "text/plain": [
       "array([[52,  0,  0,  0,  1,  0,  0,  0,  0,  0],\n",
       "       [ 0, 52,  0,  0,  0,  0,  0,  0,  0,  1],\n",
       "       [ 1,  0, 51,  1,  0,  0,  0,  0,  0,  0],\n",
       "       [ 0,  0,  1, 49,  0,  1,  0,  1,  1,  0],\n",
       "       [ 0,  0,  0,  0, 55,  0,  0,  1,  1,  0],\n",
       "       [ 0,  0,  0,  0,  0, 55,  1,  0,  0,  0],\n",
       "       [ 0,  0,  0,  0,  0,  0, 54,  0,  0,  0],\n",
       "       [ 0,  0,  0,  0,  0,  0,  0, 54,  0,  0],\n",
       "       [ 0,  3,  0,  0,  0,  0,  0,  1, 47,  1],\n",
       "       [ 0,  0,  0,  1,  0,  2,  0,  0,  0, 52]], dtype=int64)"
      ]
     },
     "execution_count": 40,
     "metadata": {},
     "output_type": "execute_result"
    }
   ],
   "source": [
    "metrics.confusion_matrix( test_labels, predicted_labels)"
   ]
  },
  {
   "cell_type": "code",
   "execution_count": 51,
   "metadata": {},
   "outputs": [],
   "source": [
    "from sklearn.cluster import KMeans\n",
    "kmeans = KMeans(n_clusters=10)"
   ]
  },
  {
   "cell_type": "code",
   "execution_count": 52,
   "metadata": {},
   "outputs": [],
   "source": [
    "clusters = kmeans.fit(train_features)"
   ]
  },
  {
   "cell_type": "code",
   "execution_count": 75,
   "metadata": {},
   "outputs": [
    {
     "data": {
      "text/plain": [
       "array([[ 0.00000000e+00,  5.40540541e-02,  4.63513514e+00,\n",
       "         1.26756757e+01,  1.35472973e+01,  1.10270270e+01,\n",
       "         5.52027027e+00,  1.25000000e+00,  1.73472348e-18,\n",
       "         7.56756757e-01,  1.07162162e+01,  1.17837838e+01,\n",
       "         1.03378378e+01,  1.25270270e+01,  5.96621622e+00,\n",
       "         7.29729730e-01,  8.67361738e-19,  1.14864865e+00,\n",
       "         5.81756757e+00,  2.23648649e+00,  6.52027027e+00,\n",
       "         1.13513514e+01,  3.83783784e+00,  1.55405405e-01,\n",
       "         4.33680869e-19,  1.12162162e+00,  5.32432432e+00,\n",
       "         6.04729730e+00,  1.21013514e+01,  1.19189189e+01,\n",
       "         4.83108108e+00,  6.75675676e-03,  0.00000000e+00,\n",
       "         1.27702703e+00,  8.72972973e+00,  1.26216216e+01,\n",
       "         1.45743243e+01,  1.05878378e+01,  3.66216216e+00,\n",
       "         0.00000000e+00,  5.20417043e-18,  1.00675676e+00,\n",
       "         5.14864865e+00,  1.11554054e+01,  1.10405405e+01,\n",
       "         3.61486486e+00,  5.60810811e-01, -3.46944695e-18,\n",
       "         5.20417043e-18,  4.05405405e-02,  2.62837838e+00,\n",
       "         1.23851351e+01,  6.45945946e+00,  4.39189189e-01,\n",
       "         2.02702703e-02,  0.00000000e+00,  4.33680869e-19,\n",
       "         6.08108108e-02,  5.70945946e+00,  1.21554054e+01,\n",
       "         2.77702703e+00,  4.18918919e-01,  4.72972973e-02,\n",
       "         0.00000000e+00],\n",
       "       [ 0.00000000e+00,  3.17460317e-02,  4.13492063e+00,\n",
       "         1.29841270e+01,  1.14841270e+01,  3.28571429e+00,\n",
       "         3.96825397e-02,  0.00000000e+00,  2.16840434e-18,\n",
       "         9.92063492e-01,  1.27063492e+01,  1.31031746e+01,\n",
       "         1.10555556e+01,  1.15238095e+01,  1.26190476e+00,\n",
       "        -2.77555756e-17,  1.08420217e-18,  3.96825397e+00,\n",
       "         1.42936508e+01,  4.72222222e+00,  2.15079365e+00,\n",
       "         1.17380952e+01,  3.92063492e+00,  1.38777878e-17,\n",
       "         5.42101086e-19,  5.42857143e+00,  1.26825397e+01,\n",
       "         1.61111111e+00,  2.93650794e-01,  9.11904762e+00,\n",
       "         6.52380952e+00,  2.16840434e-18,  0.00000000e+00,\n",
       "         5.95238095e+00,  1.14126984e+01,  6.50793651e-01,\n",
       "         3.96825397e-02,  9.06349206e+00,  7.04761905e+00,\n",
       "         0.00000000e+00,  5.20417043e-18,  3.54761905e+00,\n",
       "         1.31190476e+01,  1.61111111e+00,  1.35714286e+00,\n",
       "         1.13412698e+01,  5.67460317e+00,  0.00000000e+00,\n",
       "         5.20417043e-18,  8.01587302e-01,  1.30952381e+01,\n",
       "         9.50000000e+00,  1.01746032e+01,  1.31349206e+01,\n",
       "         2.46825397e+00,  2.77555756e-17,  5.42101086e-19,\n",
       "         1.66533454e-16,  4.17460317e+00,  1.35555556e+01,\n",
       "         1.33333333e+01,  5.26190476e+00,  3.25396825e-01,\n",
       "        -1.11022302e-16],\n",
       "       [ 0.00000000e+00,  6.99186992e-01,  9.04878049e+00,\n",
       "         1.43983740e+01,  1.38292683e+01,  7.08943089e+00,\n",
       "         7.07317073e-01, -2.77555756e-17,  1.62601626e-02,\n",
       "         4.43089431e+00,  1.24959350e+01,  8.89430894e+00,\n",
       "         1.15121951e+01,  1.17886179e+01,  2.08130081e+00,\n",
       "         1.62601626e-02,  8.13008130e-03,  2.16260163e+00,\n",
       "         3.43089431e+00,  3.35772358e+00,  1.20406504e+01,\n",
       "         9.43902439e+00,  9.02439024e-01,  0.00000000e+00,\n",
       "         3.25260652e-19,  8.94308943e-02,  9.34959350e-01,\n",
       "         8.35772358e+00,  1.44146341e+01,  6.73983740e+00,\n",
       "         1.95121951e-01,  1.30104261e-18,  0.00000000e+00,\n",
       "         8.94308943e-02,  8.04878049e-01,  4.65040650e+00,\n",
       "         1.16016260e+01,  1.24634146e+01,  2.26016260e+00,\n",
       "         0.00000000e+00,  3.46944695e-18,  6.66666667e-01,\n",
       "         1.82926829e+00,  5.52845528e-01,  3.52032520e+00,\n",
       "         1.27154472e+01,  6.64227642e+00, -3.46944695e-18,\n",
       "         3.46944695e-18,  1.12195122e+00,  7.17073171e+00,\n",
       "         6.22764228e+00,  8.23577236e+00,  1.38048780e+01,\n",
       "         5.81300813e+00,  2.43902439e-02,  3.25260652e-19,\n",
       "         5.44715447e-01,  9.81300813e+00,  1.47967480e+01,\n",
       "         1.38373984e+01,  8.21951220e+00,  1.16260163e+00,\n",
       "         4.06504065e-02],\n",
       "       [ 0.00000000e+00,  5.55111512e-17,  1.24409449e+00,\n",
       "         1.10551181e+01,  9.85826772e+00,  1.82677165e+00,\n",
       "         6.29921260e-02,  0.00000000e+00,  1.30104261e-18,\n",
       "         7.87401575e-02,  7.74015748e+00,  1.44724409e+01,\n",
       "         6.16535433e+00,  1.07874016e+00,  6.29921260e-02,\n",
       "        -2.77555756e-17,  6.50521303e-19,  8.97637795e-01,\n",
       "         1.30551181e+01,  8.83464567e+00,  7.71653543e-01,\n",
       "         6.29921260e-02,  6.66133815e-16,  1.38777878e-17,\n",
       "         3.25260652e-19,  2.67716535e+00,  1.38267717e+01,\n",
       "         7.03937008e+00,  3.19685039e+00,  1.47244094e+00,\n",
       "         6.29921260e-02,  1.30104261e-18,  0.00000000e+00,\n",
       "         3.65354331e+00,  1.48740157e+01,  1.23622047e+01,\n",
       "         1.21181102e+01,  1.01732283e+01,  2.29133858e+00,\n",
       "         0.00000000e+00,  5.20417043e-18,  2.03937008e+00,\n",
       "         1.48661417e+01,  1.11102362e+01,  5.88188976e+00,\n",
       "         1.05354331e+01,  9.27559055e+00,  1.02362205e-01,\n",
       "         5.20417043e-18,  1.96850394e-01,  1.05748031e+01,\n",
       "         1.24330709e+01,  4.97637795e+00,  1.08267717e+01,\n",
       "         1.11181102e+01,  5.90551181e-01,  3.25260652e-19,\n",
       "         1.66533454e-16,  1.51181102e+00,  1.07795276e+01,\n",
       "         1.50236220e+01,  1.32362205e+01,  4.96062992e+00,\n",
       "         1.49606299e-01],\n",
       "       [ 0.00000000e+00,  6.99248120e-01,  9.58646617e+00,\n",
       "         1.43684211e+01,  7.87969925e+00,  9.77443609e-01,\n",
       "        -4.44089210e-16,  2.77555756e-17,  1.73472348e-18,\n",
       "         4.57142857e+00,  1.33007519e+01,  1.26842105e+01,\n",
       "         1.15939850e+01,  3.12781955e+00,  2.25563910e-02,\n",
       "        -2.77555756e-17,  7.51879699e-03,  4.34586466e+00,\n",
       "         8.42105263e+00,  6.71428571e+00,  1.21729323e+01,\n",
       "         3.28571429e+00,  2.25563910e-02,  1.38777878e-17,\n",
       "         4.33680869e-19,  1.18796992e+00,  3.48120301e+00,\n",
       "         7.86466165e+00,  1.26315789e+01,  2.42857143e+00,\n",
       "         5.26315789e-02,  1.73472348e-18,  0.00000000e+00,\n",
       "         1.20300752e-01,  1.93233083e+00,  1.03082707e+01,\n",
       "         1.07218045e+01,  1.58646617e+00, -1.33226763e-15,\n",
       "         0.00000000e+00,  5.20417043e-18,  3.00751880e-01,\n",
       "         4.47368421e+00,  1.05563910e+01,  7.59398496e+00,\n",
       "         2.30827068e+00,  6.39097744e-01,  0.00000000e+00,\n",
       "         5.20417043e-18,  1.19548872e+00,  1.05864662e+01,\n",
       "         1.32857143e+01,  1.13609023e+01,  1.06090226e+01,\n",
       "         7.33082707e+00,  1.39849624e+00,  4.33680869e-19,\n",
       "         6.61654135e-01,  9.69924812e+00,  1.45639098e+01,\n",
       "         1.41503759e+01,  1.33909774e+01,  1.01052632e+01,\n",
       "         3.61654135e+00],\n",
       "       [ 0.00000000e+00,  1.11022302e-16,  2.05357143e-01,\n",
       "         6.98214286e+00,  1.23839286e+01,  1.74107143e+00,\n",
       "         2.05357143e-01,  7.14285714e-02,  1.73472348e-18,\n",
       "         1.78571429e-02,  3.12500000e+00,  1.38660714e+01,\n",
       "         9.15178571e+00,  1.90178571e+00,  1.30357143e+00,\n",
       "         4.01785714e-01,  8.67361738e-19,  6.96428571e-01,\n",
       "         1.07321429e+01,  1.19196429e+01,  4.99107143e+00,\n",
       "         5.66071429e+00,  4.33035714e+00,  4.46428571e-01,\n",
       "         8.92857143e-03,  4.92857143e+00,  1.47946429e+01,\n",
       "         6.32142857e+00,  7.72321429e+00,  1.04017857e+01,\n",
       "         5.72321429e+00,  2.67857143e-02,  0.00000000e+00,\n",
       "         8.77678571e+00,  1.47678571e+01,  9.98214286e+00,\n",
       "         1.36517857e+01,  1.39910714e+01,  5.16964286e+00,\n",
       "         0.00000000e+00,  1.16071429e-01,  5.75000000e+00,\n",
       "         1.04821429e+01,  1.18571429e+01,  1.48482143e+01,\n",
       "         1.06517857e+01,  1.69642857e+00,  0.00000000e+00,\n",
       "         8.92857143e-02,  8.92857143e-01,  2.03571429e+00,\n",
       "         7.06250000e+00,  1.40714286e+01,  3.78571429e+00,\n",
       "         2.67857143e-02,  2.77555756e-17,  4.33680869e-19,\n",
       "         2.67857143e-02,  2.76785714e-01,  7.86607143e+00,\n",
       "         1.25625000e+01,  1.66964286e+00,  1.33226763e-15,\n",
       "        -1.11022302e-16],\n",
       "       [ 0.00000000e+00,  1.22680412e+00,  1.06907216e+01,\n",
       "         1.32577320e+01,  1.36907216e+01,  1.27113402e+01,\n",
       "         5.46391753e+00,  6.18556701e-02,  1.03092784e-02,\n",
       "         5.04123711e+00,  1.53298969e+01,  1.27319588e+01,\n",
       "         9.42268041e+00,  8.03092784e+00,  3.24742268e+00,\n",
       "         5.15463918e-02,  6.50521303e-19,  6.03092784e+00,\n",
       "         1.47938144e+01,  5.69072165e+00,  1.65979381e+00,\n",
       "         7.21649485e-01,  1.34020619e-01,  0.00000000e+00,\n",
       "         3.25260652e-19,  4.79381443e+00,  1.40927835e+01,\n",
       "         1.23195876e+01,  7.86597938e+00,  1.69072165e+00,\n",
       "         1.03092784e-01,  1.30104261e-18,  0.00000000e+00,\n",
       "         1.87628866e+00,  7.86597938e+00,  1.00103093e+01,\n",
       "         1.04639175e+01,  4.76288660e+00,  2.88659794e-01,\n",
       "         0.00000000e+00,  3.46944695e-18,  3.09278351e-01,\n",
       "         1.41237113e+00,  5.00000000e+00,  1.10000000e+01,\n",
       "         6.47422680e+00,  4.63917526e-01, -3.46944695e-18,\n",
       "         3.46944695e-18,  8.55670103e-01,  5.30927835e+00,\n",
       "         9.63917526e+00,  1.29484536e+01,  4.57731959e+00,\n",
       "         2.37113402e-01,  2.77555756e-17,  3.25260652e-19,\n",
       "         1.12371134e+00,  1.17216495e+01,  1.47731959e+01,\n",
       "         7.70103093e+00,  7.93814433e-01,  4.44089210e-16,\n",
       "        -1.11022302e-16],\n",
       "       [ 0.00000000e+00,  5.55111512e-17,  4.68750000e-02,\n",
       "         1.87500000e+00,  1.14843750e+01,  1.21875000e+01,\n",
       "         4.18750000e+00,  7.81250000e-02,  1.30104261e-18,\n",
       "         3.12500000e-02,  1.31250000e+00,  8.42187500e+00,\n",
       "         1.37500000e+01,  1.24062500e+01,  5.43750000e+00,\n",
       "         1.56250000e-01,  6.50521303e-19,  8.43750000e-01,\n",
       "         7.46875000e+00,  1.21875000e+01,  1.22812500e+01,\n",
       "         1.29062500e+01,  3.89062500e+00,  1.09375000e-01,\n",
       "         3.25260652e-19,  3.60937500e+00,  1.30468750e+01,\n",
       "         1.36875000e+01,  1.47187500e+01,  1.29843750e+01,\n",
       "         2.04687500e+00,  1.30104261e-18,  0.00000000e+00,\n",
       "         2.31250000e+00,  8.65625000e+00,  9.48437500e+00,\n",
       "         1.31250000e+01,  1.18437500e+01,  1.43750000e+00,\n",
       "         0.00000000e+00,  3.46944695e-18,  8.28125000e-01,\n",
       "         2.29687500e+00,  4.60937500e+00,  1.27812500e+01,\n",
       "         1.15000000e+01,  7.81250000e-01, -1.73472348e-18,\n",
       "         3.46944695e-18,  4.68750000e-02,  2.50000000e-01,\n",
       "         3.78125000e+00,  1.32500000e+01,  1.13593750e+01,\n",
       "         9.21875000e-01,  2.77555756e-17,  3.25260652e-19,\n",
       "         1.11022302e-16,  0.00000000e+00,  1.98437500e+00,\n",
       "         1.18281250e+01,  1.03750000e+01,  1.12500000e+00,\n",
       "        -5.55111512e-17],\n",
       "       [ 0.00000000e+00,  8.72483221e-02,  3.55704698e+00,\n",
       "         1.11409396e+01,  1.24899329e+01,  5.98657718e+00,\n",
       "         5.10067114e-01,  5.55111512e-17,  2.16840434e-18,\n",
       "         6.44295302e-01,  7.83221477e+00,  1.34966443e+01,\n",
       "         1.28590604e+01,  1.05838926e+01,  1.65100671e+00,\n",
       "        -2.77555756e-17,  1.08420217e-18,  1.26174497e+00,\n",
       "         8.41610738e+00,  1.14093960e+01,  1.15973154e+01,\n",
       "         9.89932886e+00,  1.19463087e+00,  0.00000000e+00,\n",
       "         5.42101086e-19,  1.04026846e+00,  7.07382550e+00,\n",
       "         1.36644295e+01,  1.38120805e+01,  5.35570470e+00,\n",
       "         2.14765101e-01,  2.16840434e-18,  0.00000000e+00,\n",
       "         7.18120805e-01,  8.02684564e+00,  1.46979866e+01,\n",
       "         1.29127517e+01,  2.21476510e+00,  2.01342282e-02,\n",
       "         0.00000000e+00,  5.20417043e-18,  1.56375839e+00,\n",
       "         1.13288591e+01,  1.21006711e+01,  1.15771812e+01,\n",
       "         4.26174497e+00,  3.35570470e-01, -1.73472348e-18,\n",
       "         2.01342282e-02,  1.01342282e+00,  1.03489933e+01,\n",
       "         1.18255034e+01,  1.15570470e+01,  5.93959732e+00,\n",
       "         9.93288591e-01,  6.71140940e-03,  6.71140940e-03,\n",
       "         8.72483221e-02,  3.83221477e+00,  1.16174497e+01,\n",
       "         1.28926174e+01,  5.88590604e+00,  1.30201342e+00,\n",
       "         1.34228188e-02],\n",
       "       [ 0.00000000e+00,  1.57303371e-01,  6.10112360e+00,\n",
       "         1.23033708e+01,  1.19157303e+01,  5.58426966e+00,\n",
       "         5.11235955e-01,  1.12359551e-02,  5.61797753e-03,\n",
       "         2.52808989e+00,  1.40449438e+01,  9.44382022e+00,\n",
       "         9.06741573e+00,  1.01516854e+01,  1.14044944e+00,\n",
       "         5.61797753e-03,  8.67361738e-19,  4.50000000e+00,\n",
       "         1.27696629e+01,  4.42134831e+00,  6.93258427e+00,\n",
       "         1.10955056e+01,  1.60674157e+00,  1.38777878e-17,\n",
       "         4.33680869e-19,  2.46629213e+00,  1.05505618e+01,\n",
       "         1.14943820e+01,  1.34662921e+01,  1.19662921e+01,\n",
       "         2.11797753e+00,  1.73472348e-18,  0.00000000e+00,\n",
       "         4.04494382e-01,  3.69101124e+00,  6.79213483e+00,\n",
       "         7.39887640e+00,  1.11460674e+01,  3.68539326e+00,\n",
       "         0.00000000e+00,  5.20417043e-18,  2.80898876e-01,\n",
       "         2.62921348e+00,  1.90449438e+00,  1.82022472e+00,\n",
       "         1.11067416e+01,  6.32022472e+00,  2.24719101e-02,\n",
       "         5.20417043e-18,  7.58426966e-01,  8.51685393e+00,\n",
       "         5.90449438e+00,  4.42134831e+00,  1.16741573e+01,\n",
       "         6.76966292e+00,  1.51685393e-01,  4.33680869e-19,\n",
       "         1.46067416e-01,  6.00561798e+00,  1.30617978e+01,\n",
       "         1.44269663e+01,  1.07303371e+01,  2.91011236e+00,\n",
       "         1.23595506e-01]])"
      ]
     },
     "execution_count": 75,
     "metadata": {},
     "output_type": "execute_result"
    }
   ],
   "source": [
    "\n",
    "Center =kmeans.cluster_centers_\n",
    "Center"
   ]
  },
  {
   "cell_type": "code",
   "execution_count": 57,
   "metadata": {},
   "outputs": [
    {
     "data": {
      "image/png": "[encoded data removed]",
      "text/plain": [
       "<Figure size 432x288 with 1 Axes>"
      ]
     },
     "metadata": {
      "needs_background": "light"
     },
     "output_type": "display_data"
    }
   ],
   "source": [
    "plt.scatter(Center[:, 0], Center[:, 1]);"
   ]
  },
  {
   "cell_type": "code",
   "execution_count": 83,
   "metadata": {},
   "outputs": [
    {
     "ename": "TypeError",
     "evalue": "'float' object cannot be interpreted as an integer",
     "output_type": "error",
     "traceback": [
      "\u001b[1;31m---------------------------------------------------------------------------\u001b[0m",
      "\u001b[1;31mTypeError\u001b[0m                                 Traceback (most recent call last)",
      "\u001b[1;32m<ipython-input-83-512c52aeb304>\u001b[0m in \u001b[0;36m<module>\u001b[1;34m\u001b[0m\n\u001b[0;32m      1\u001b[0m \u001b[0mj\u001b[0m\u001b[1;33m=\u001b[0m\u001b[1;36m0\u001b[0m\u001b[1;33m\u001b[0m\u001b[1;33m\u001b[0m\u001b[0m\n\u001b[0;32m      2\u001b[0m \u001b[0mlen\u001b[0m\u001b[1;33m(\u001b[0m\u001b[0mCenter\u001b[0m\u001b[1;33m[\u001b[0m\u001b[1;36m1\u001b[0m\u001b[1;33m]\u001b[0m\u001b[1;33m)\u001b[0m\u001b[1;33m\u001b[0m\u001b[1;33m\u001b[0m\u001b[0m\n\u001b[1;32m----> 3\u001b[1;33m \u001b[0mx\u001b[0m\u001b[1;33m=\u001b[0m\u001b[0mnp\u001b[0m\u001b[1;33m.\u001b[0m\u001b[0mzeros\u001b[0m\u001b[1;33m(\u001b[0m\u001b[0mlen\u001b[0m\u001b[1;33m(\u001b[0m\u001b[0mCenter\u001b[0m\u001b[1;33m[\u001b[0m\u001b[1;36m1\u001b[0m\u001b[1;33m]\u001b[0m\u001b[1;33m)\u001b[0m\u001b[1;33m/\u001b[0m\u001b[1;36m2\u001b[0m\u001b[1;33m)\u001b[0m\u001b[1;33m\u001b[0m\u001b[1;33m\u001b[0m\u001b[0m\n\u001b[0m\u001b[0;32m      4\u001b[0m \u001b[0my\u001b[0m\u001b[1;33m=\u001b[0m\u001b[0mnp\u001b[0m\u001b[1;33m.\u001b[0m\u001b[0mzeros\u001b[0m\u001b[1;33m(\u001b[0m\u001b[0mlen\u001b[0m\u001b[1;33m(\u001b[0m\u001b[0mCenter\u001b[0m\u001b[1;33m[\u001b[0m\u001b[1;36m1\u001b[0m\u001b[1;33m]\u001b[0m\u001b[1;33m)\u001b[0m\u001b[1;33m/\u001b[0m\u001b[1;36m2\u001b[0m\u001b[1;33m)\u001b[0m\u001b[1;33m\u001b[0m\u001b[1;33m\u001b[0m\u001b[0m\n\u001b[0;32m      5\u001b[0m \u001b[1;32mfor\u001b[0m \u001b[0mk\u001b[0m \u001b[1;32min\u001b[0m \u001b[0mrange\u001b[0m\u001b[1;33m(\u001b[0m\u001b[1;36m0\u001b[0m\u001b[1;33m,\u001b[0m\u001b[0mlen\u001b[0m\u001b[1;33m(\u001b[0m\u001b[0mCenter\u001b[0m\u001b[1;33m)\u001b[0m\u001b[1;33m)\u001b[0m\u001b[1;33m:\u001b[0m\u001b[1;33m\u001b[0m\u001b[1;33m\u001b[0m\u001b[0m\n",
      "\u001b[1;31mTypeError\u001b[0m: 'float' object cannot be interpreted as an integer"
     ]
    }
   ],
   "source": [
    "j=0\n",
    "len(Center[1])\n",
    "x=np.zeros(len(Center[1])/2)\n",
    "y=np.zeros(len(Center[1])/2)\n",
    "for k in range(0,len(Center)):\n",
    "         \n",
    "           \n",
    "    for i in range(0,len(Center[k])/2-1):\n",
    "        x=Center[k,i*2]\n",
    "        y=Center[k,i*2+1]\n",
    "        j=j+1  \n",
    "\n",
    "x\n",
    "y\n",
    "\n",
    "plt.scatter(x, y);"
   ]
  },
  {
   "cell_type": "code",
   "execution_count": 79,
   "metadata": {},
   "outputs": [
    {
     "data": {
      "text/plain": [
       "64"
      ]
     },
     "execution_count": 79,
     "metadata": {},
     "output_type": "execute_result"
    }
   ],
   "source": [
    "len(Center[1])"
   ]
  },
  {
   "cell_type": "code",
   "execution_count": 84,
   "metadata": {},
   "outputs": [],
   "source": [
    "predicted = kmeans.predict(test_features)"
   ]
  },
  {
   "cell_type": "code",
   "execution_count": 85,
   "metadata": {},
   "outputs": [
    {
     "name": "stdout",
     "output_type": "stream",
     "text": [
      "              precision    recall  f1-score   support\n",
      "\n",
      "           0       0.00      0.00      0.00        53\n",
      "           1       0.00      0.00      0.00        53\n",
      "           2       0.13      0.13      0.13        53\n",
      "           3       0.00      0.00      0.00        53\n",
      "           4       0.00      0.00      0.00        57\n",
      "           5       0.02      0.02      0.02        56\n",
      "           6       0.00      0.00      0.00        54\n",
      "           7       0.00      0.00      0.00        54\n",
      "           8       0.43      0.63      0.51        52\n",
      "           9       0.55      0.76      0.64        55\n",
      "\n",
      "    accuracy                           0.15       540\n",
      "   macro avg       0.11      0.15      0.13       540\n",
      "weighted avg       0.11      0.15      0.13       540\n",
      "\n"
     ]
    }
   ],
   "source": [
    "print(metrics.classification_report( test_labels, predicted))"
   ]
  },
  {
   "cell_type": "code",
   "execution_count": 86,
   "metadata": {},
   "outputs": [
    {
     "data": {
      "text/plain": [
       "array([[ 0, 52,  0,  0,  0,  1,  0,  0,  0,  0],\n",
       "       [ 0,  0,  0,  0,  0,  0,  1, 17, 35,  0],\n",
       "       [ 0,  1,  7,  0, 42,  0,  0,  0,  0,  3],\n",
       "       [ 3,  0, 41,  0,  0,  0,  2,  0,  6,  1],\n",
       "       [ 3,  1,  0,  0,  0, 52,  0,  1,  0,  0],\n",
       "       [ 0,  0,  0,  1,  0,  1, 35,  0,  0, 19],\n",
       "       [ 0,  0,  0, 52,  0,  0,  0,  1,  1,  0],\n",
       "       [52,  0,  0,  0,  0,  0,  0,  0,  2,  0],\n",
       "       [ 3,  0,  1,  0,  1,  0,  1,  1, 33, 12],\n",
       "       [ 2,  0,  3,  0,  0,  0,  3,  5,  0, 42]], dtype=int64)"
      ]
     },
     "execution_count": 86,
     "metadata": {},
     "output_type": "execute_result"
    }
   ],
   "source": [
    "metrics.confusion_matrix( test_labels, predicted)"
   ]
  },
  {
   "cell_type": "code",
   "execution_count": 93,
   "metadata": {},
   "outputs": [],
   "source": [
    "clusters_labels = kmeans.predict(train_features)"
   ]
  },
  {
   "cell_type": "code",
   "execution_count": 95,
   "metadata": {},
   "outputs": [
    {
     "ename": "ValueError",
     "evalue": "Found input variables with inconsistent numbers of samples: [1797, 1257]",
     "output_type": "error",
     "traceback": [
      "\u001b[1;31m---------------------------------------------------------------------------\u001b[0m",
      "\u001b[1;31mValueError\u001b[0m                                Traceback (most recent call last)",
      "\u001b[1;32m<ipython-input-95-787f185d42f7>\u001b[0m in \u001b[0;36m<module>\u001b[1;34m\u001b[0m\n\u001b[1;32m----> 1\u001b[1;33m \u001b[0mmetrics\u001b[0m\u001b[1;33m.\u001b[0m\u001b[0mcompleteness_score\u001b[0m\u001b[1;33m(\u001b[0m \u001b[0mdigits\u001b[0m\u001b[1;33m.\u001b[0m\u001b[0mtarget\u001b[0m\u001b[1;33m,\u001b[0m \u001b[0mclusters_labels\u001b[0m\u001b[1;33m)\u001b[0m\u001b[1;33m\u001b[0m\u001b[1;33m\u001b[0m\u001b[0m\n\u001b[0m\u001b[0;32m      2\u001b[0m \u001b[0mmetrics\u001b[0m\u001b[1;33m.\u001b[0m\u001b[0mhomogeneity_score\u001b[0m\u001b[1;33m(\u001b[0m \u001b[0mdigits\u001b[0m\u001b[1;33m.\u001b[0m\u001b[0mtarget\u001b[0m\u001b[1;33m,\u001b[0m \u001b[0mclusters_labels\u001b[0m\u001b[1;33m)\u001b[0m\u001b[1;33m\u001b[0m\u001b[1;33m\u001b[0m\u001b[0m\n\u001b[0;32m      3\u001b[0m \u001b[0mmetrics\u001b[0m\u001b[1;33m.\u001b[0m\u001b[0madjusted_mutual_info_score\u001b[0m\u001b[1;33m(\u001b[0m \u001b[0mdigits\u001b[0m\u001b[1;33m.\u001b[0m\u001b[0mtarget\u001b[0m\u001b[1;33m,\u001b[0m \u001b[0mcluster_labels\u001b[0m\u001b[1;33m)\u001b[0m\u001b[1;33m\u001b[0m\u001b[1;33m\u001b[0m\u001b[0m\n",
      "\u001b[1;32m~\\Anaconda3\\envs\\tensorfloe_environment\\lib\\site-packages\\sklearn\\metrics\\cluster\\_supervised.py\u001b[0m in \u001b[0;36mcompleteness_score\u001b[1;34m(labels_true, labels_pred)\u001b[0m\n\u001b[0;32m    464\u001b[0m \u001b[1;33m\u001b[0m\u001b[0m\n\u001b[0;32m    465\u001b[0m     \"\"\"\n\u001b[1;32m--> 466\u001b[1;33m     \u001b[1;32mreturn\u001b[0m \u001b[0mhomogeneity_completeness_v_measure\u001b[0m\u001b[1;33m(\u001b[0m\u001b[0mlabels_true\u001b[0m\u001b[1;33m,\u001b[0m \u001b[0mlabels_pred\u001b[0m\u001b[1;33m)\u001b[0m\u001b[1;33m[\u001b[0m\u001b[1;36m1\u001b[0m\u001b[1;33m]\u001b[0m\u001b[1;33m\u001b[0m\u001b[1;33m\u001b[0m\u001b[0m\n\u001b[0m\u001b[0;32m    467\u001b[0m \u001b[1;33m\u001b[0m\u001b[0m\n\u001b[0;32m    468\u001b[0m \u001b[1;33m\u001b[0m\u001b[0m\n",
      "\u001b[1;32m~\\Anaconda3\\envs\\tensorfloe_environment\\lib\\site-packages\\sklearn\\utils\\validation.py\u001b[0m in \u001b[0;36minner_f\u001b[1;34m(*args, **kwargs)\u001b[0m\n\u001b[0;32m     70\u001b[0m                           FutureWarning)\n\u001b[0;32m     71\u001b[0m         \u001b[0mkwargs\u001b[0m\u001b[1;33m.\u001b[0m\u001b[0mupdate\u001b[0m\u001b[1;33m(\u001b[0m\u001b[1;33m{\u001b[0m\u001b[0mk\u001b[0m\u001b[1;33m:\u001b[0m \u001b[0marg\u001b[0m \u001b[1;32mfor\u001b[0m \u001b[0mk\u001b[0m\u001b[1;33m,\u001b[0m \u001b[0marg\u001b[0m \u001b[1;32min\u001b[0m \u001b[0mzip\u001b[0m\u001b[1;33m(\u001b[0m\u001b[0msig\u001b[0m\u001b[1;33m.\u001b[0m\u001b[0mparameters\u001b[0m\u001b[1;33m,\u001b[0m \u001b[0margs\u001b[0m\u001b[1;33m)\u001b[0m\u001b[1;33m}\u001b[0m\u001b[1;33m)\u001b[0m\u001b[1;33m\u001b[0m\u001b[1;33m\u001b[0m\u001b[0m\n\u001b[1;32m---> 72\u001b[1;33m         \u001b[1;32mreturn\u001b[0m \u001b[0mf\u001b[0m\u001b[1;33m(\u001b[0m\u001b[1;33m**\u001b[0m\u001b[0mkwargs\u001b[0m\u001b[1;33m)\u001b[0m\u001b[1;33m\u001b[0m\u001b[1;33m\u001b[0m\u001b[0m\n\u001b[0m\u001b[0;32m     73\u001b[0m     \u001b[1;32mreturn\u001b[0m \u001b[0minner_f\u001b[0m\u001b[1;33m\u001b[0m\u001b[1;33m\u001b[0m\u001b[0m\n\u001b[0;32m     74\u001b[0m \u001b[1;33m\u001b[0m\u001b[0m\n",
      "\u001b[1;32m~\\Anaconda3\\envs\\tensorfloe_environment\\lib\\site-packages\\sklearn\\metrics\\cluster\\_supervised.py\u001b[0m in \u001b[0;36mhomogeneity_completeness_v_measure\u001b[1;34m(labels_true, labels_pred, beta)\u001b[0m\n\u001b[0;32m    304\u001b[0m     \u001b[0mv_measure_score\u001b[0m\u001b[1;33m\u001b[0m\u001b[1;33m\u001b[0m\u001b[0m\n\u001b[0;32m    305\u001b[0m     \"\"\"\n\u001b[1;32m--> 306\u001b[1;33m     \u001b[0mlabels_true\u001b[0m\u001b[1;33m,\u001b[0m \u001b[0mlabels_pred\u001b[0m \u001b[1;33m=\u001b[0m \u001b[0mcheck_clusterings\u001b[0m\u001b[1;33m(\u001b[0m\u001b[0mlabels_true\u001b[0m\u001b[1;33m,\u001b[0m \u001b[0mlabels_pred\u001b[0m\u001b[1;33m)\u001b[0m\u001b[1;33m\u001b[0m\u001b[1;33m\u001b[0m\u001b[0m\n\u001b[0m\u001b[0;32m    307\u001b[0m \u001b[1;33m\u001b[0m\u001b[0m\n\u001b[0;32m    308\u001b[0m     \u001b[1;32mif\u001b[0m \u001b[0mlen\u001b[0m\u001b[1;33m(\u001b[0m\u001b[0mlabels_true\u001b[0m\u001b[1;33m)\u001b[0m \u001b[1;33m==\u001b[0m \u001b[1;36m0\u001b[0m\u001b[1;33m:\u001b[0m\u001b[1;33m\u001b[0m\u001b[1;33m\u001b[0m\u001b[0m\n",
      "\u001b[1;32m~\\Anaconda3\\envs\\tensorfloe_environment\\lib\\site-packages\\sklearn\\metrics\\cluster\\_supervised.py\u001b[0m in \u001b[0;36mcheck_clusterings\u001b[1;34m(labels_true, labels_pred)\u001b[0m\n\u001b[0;32m     59\u001b[0m         raise ValueError(\n\u001b[0;32m     60\u001b[0m             \"labels_pred must be 1D: shape is %r\" % (labels_pred.shape,))\n\u001b[1;32m---> 61\u001b[1;33m     \u001b[0mcheck_consistent_length\u001b[0m\u001b[1;33m(\u001b[0m\u001b[0mlabels_true\u001b[0m\u001b[1;33m,\u001b[0m \u001b[0mlabels_pred\u001b[0m\u001b[1;33m)\u001b[0m\u001b[1;33m\u001b[0m\u001b[1;33m\u001b[0m\u001b[0m\n\u001b[0m\u001b[0;32m     62\u001b[0m \u001b[1;33m\u001b[0m\u001b[0m\n\u001b[0;32m     63\u001b[0m     \u001b[1;32mreturn\u001b[0m \u001b[0mlabels_true\u001b[0m\u001b[1;33m,\u001b[0m \u001b[0mlabels_pred\u001b[0m\u001b[1;33m\u001b[0m\u001b[1;33m\u001b[0m\u001b[0m\n",
      "\u001b[1;32m~\\Anaconda3\\envs\\tensorfloe_environment\\lib\\site-packages\\sklearn\\utils\\validation.py\u001b[0m in \u001b[0;36mcheck_consistent_length\u001b[1;34m(*arrays)\u001b[0m\n\u001b[0;32m    254\u001b[0m     \u001b[1;32mif\u001b[0m \u001b[0mlen\u001b[0m\u001b[1;33m(\u001b[0m\u001b[0muniques\u001b[0m\u001b[1;33m)\u001b[0m \u001b[1;33m>\u001b[0m \u001b[1;36m1\u001b[0m\u001b[1;33m:\u001b[0m\u001b[1;33m\u001b[0m\u001b[1;33m\u001b[0m\u001b[0m\n\u001b[0;32m    255\u001b[0m         raise ValueError(\"Found input variables with inconsistent numbers of\"\n\u001b[1;32m--> 256\u001b[1;33m                          \" samples: %r\" % [int(l) for l in lengths])\n\u001b[0m\u001b[0;32m    257\u001b[0m \u001b[1;33m\u001b[0m\u001b[0m\n\u001b[0;32m    258\u001b[0m \u001b[1;33m\u001b[0m\u001b[0m\n",
      "\u001b[1;31mValueError\u001b[0m: Found input variables with inconsistent numbers of samples: [1797, 1257]"
     ]
    }
   ],
   "source": [
    "metrics.completeness_score( digits.target, clusters_labels)\n",
    "metrics.homogeneity_score( digits.target, clusters_labels)\n",
    "metrics.adjusted_mutual_info_score( digits.target, cluster_labels)"
   ]
  },
  {
   "cell_type": "code",
   "execution_count": null,
   "metadata": {},
   "outputs": [],
   "source": []
  }
 ],
 "metadata": {
  "kernelspec": {
   "display_name": "Python 3",
   "language": "python",
   "name": "python3"
  },
  "language_info": {
   "codemirror_mode": {
    "name": "ipython",
    "version": 3
   },
   "file_extension": ".py",
   "mimetype": "text/x-python",
   "name": "python",
   "nbconvert_exporter": "python",
   "pygments_lexer": "ipython3",
   "version": "3.8.3"
  }
 },
 "nbformat": 4,
 "nbformat_minor": 4
}
